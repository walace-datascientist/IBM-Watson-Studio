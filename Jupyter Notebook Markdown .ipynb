{
    "nbformat_minor": 1, 
    "cells": [
        {
            "source": "# Heads\n\nReferences: \n> * [Markdown for Jupyter notebooks cheatsheet](https://www.ibm.com/support/knowledgecenter/SSQNUZ_current/com.ibm.icpdata.doc/dsx/markd-jupyter.html) \n\nUse the number sign (#) followed by a blank space for notebook titles and section headings:\n> * \u00b4#\u00b4 for titles\n> * \u00b4##\u00b4 for major heading titles\n> * \u00b4###\u00b4 for subheadings\n> * \u00b4####\u00b4 for 4th level subheadings", 
            "cell_type": "markdown", 
            "metadata": {
                "collapsed": true
            }
        }, 
        {
            "source": "# Emphasis\n\nUse the following code to emphasize text:\n* Bold text: `__string__` or `**string**`\n> **string**\n* Italic text: `_string` or `*string*`\n> *string*", 
            "cell_type": "markdown", 
            "metadata": {}
        }, 
        {
            "source": "# Indenting\n\nUse the greater sign (>) followed by a space, for example\n\n(>) Text that will be indented when the Markdown is rendered\n> Text that will be indented when the Markdown is rendered", 
            "cell_type": "markdown", 
            "metadata": {}
        }, 
        {
            "source": "## Bullets\n\nTo create a circular bullet point, use one of the following methods. Each bullet point must be on its own line.\n> * A hyphen (-) followed by one or two spaces, for example: - Bulleted item\n> * A space, a hyphen (-) and a space, for example: - Bulleted item\n> * An asterisk (*) followed by one or two spaces, for example: * Bulleted item\n\nTo create a sub bullet, press Tab before entering the bullet point using one of the methods described above. For example:\n\n> * Main bullet point\n    * Sub bullet point\n\n", 
            "cell_type": "markdown", 
            "metadata": {}
        }, 
        {
            "source": "# Numbered Lists\n\nTo create a numbered list, enter 1. followed by a space, for example:\n\n> 1. Numbered item 1\n> 1. Numbered item 2\n\nFor simplicity, you use 1. before each entry. The list will be numbered correctly when you run the cell.\n\nTo create a substep, press Tab before entering the numbered item, for example:\n\n", 
            "cell_type": "markdown", 
            "metadata": {}
        }, 
        {
            "source": "# Colored note boxes\n\nUse one of the following `<div>` tags to display text in a colored box.\n\nThe color of the box is determined by the alert type that you specify:\n\n* __Blue boxes (alert-info)__\n\n<div class=\"alert alert-block alert-info\">\n<b>Tip:</b> Use blue boxes (alert-info) for tips and notes. \nIf it\u2019s a note, you don\u2019t have to include the word \u201cNote\u201d.\n</div>\n\n* __Yellow boxes (alert-warning)__\n\n<div class=\"alert alert-block alert-warning\">\n<b>Example:</b> Use yellow boxes for examples that are not \ninside code cells, or use for mathematical formulas if needed.\n</div>\n\n* __Green boxes (alert-success)__\n\n<div class=\"alert alert-block alert-success\">\n<b>Up to you:</b> Use green boxes sparingly, and only for some specific \npurpose that the other boxes can't cover. For example, if you have a lot \nof related content to link to, maybe you decide to use green boxes for \nrelated links from each section of a notebook.\n</div>\n\n* __Red boxes (alert-danger)__\n\n<div class=\"alert alert-block alert-danger\">\n<b>Just don't:</b> In general, avoid the red boxes. These should only be\nused for actions that might cause data loss or another major issue.\n</div>\n\n", 
            "cell_type": "markdown", 
            "metadata": {}
        }, 
        {
            "execution_count": null, 
            "cell_type": "code", 
            "metadata": {}, 
            "outputs": [], 
            "source": ""
        }
    ], 
    "metadata": {
        "kernelspec": {
            "display_name": "Python 3.5 with Spark", 
            "name": "python3", 
            "language": "python3"
        }, 
        "language_info": {
            "mimetype": "text/x-python", 
            "nbconvert_exporter": "python", 
            "version": "3.5.4", 
            "name": "python", 
            "file_extension": ".py", 
            "pygments_lexer": "ipython3", 
            "codemirror_mode": {
                "version": 3, 
                "name": "ipython"
            }
        }
    }, 
    "nbformat": 4
}